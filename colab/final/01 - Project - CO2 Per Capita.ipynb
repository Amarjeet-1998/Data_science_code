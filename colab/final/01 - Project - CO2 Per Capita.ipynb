{
  "cells": [
    {
      "cell_type": "markdown",
      "id": "04166fc1",
      "metadata": {
        "id": "04166fc1"
      },
      "source": [
        "<a \n",
        " href=\"https://colab.research.google.com/github/LearnPythonWithRune/DataScienceWithPython/blob/main/colab/final/01 - Project - CO2 Per Capita.ipynb\"\n",
        " target=\"_parent\">\n",
        "<img \n",
        " src=\"https://colab.research.google.com/assets/colab-badge.svg\"\n",
        "alt=\"Open In Colab\"/>\n",
        "</a>"
      ]
    },
    {
      "cell_type": "markdown",
      "id": "39c877c9",
      "metadata": {
        "id": "39c877c9"
      },
      "source": [
        "# Project - CO2 Per Capita"
      ]
    },
    {
      "cell_type": "markdown",
      "id": "26869a35",
      "metadata": {
        "id": "26869a35"
      },
      "source": [
        "![Data Science Workflow](https://raw.githubusercontent.com/LearnPythonWithRune/DataScienceWithPython/main/jupyter/final/img/ds-workflow.png)"
      ]
    },
    {
      "cell_type": "markdown",
      "id": "d0e1870e",
      "metadata": {
        "id": "d0e1870e"
      },
      "source": [
        "## Goal of Project\n",
        "- Explore how Data Visualization can help present findings with a message\n",
        "- We will explore the CO2 per capita dataset\n",
        "- It will be your task to what kind of message you want the receiver to get\n",
        "- NOTE: We still have limited skills, hence, we must limit our ambitions in our analysis"
      ]
    },
    {
      "cell_type": "markdown",
      "id": "77f362c4",
      "metadata": {
        "id": "77f362c4"
      },
      "source": [
        "## Step 1: Acquire\n",
        "- Explore problem\n",
        "- Identify data\n",
        "- Import data"
      ]
    },
    {
      "cell_type": "markdown",
      "id": "6f8cbbcb",
      "metadata": {
        "id": "6f8cbbcb"
      },
      "source": [
        "### Step 1.a: Import libraries\n",
        "- Execute the cell below (SHIFT + ENTER)"
      ]
    },
    {
      "cell_type": "code",
      "execution_count": 1,
      "id": "9b9c78d1",
      "metadata": {
        "id": "9b9c78d1"
      },
      "outputs": [],
      "source": [
        "import pandas as pd\n",
        "import matplotlib.pyplot as plt\n",
        "%matplotlib inline"
      ]
    },
    {
      "cell_type": "markdown",
      "id": "b5f9a799",
      "metadata": {
        "id": "b5f9a799"
      },
      "source": [
        "### Step 1.b: Read the data\n",
        "- Use ```pd.read_csv()``` to read the file `files/WorldBank-ATM.CO2E.PC_DS2.csv`\n",
        "- NOTE: Remember to assign the result to a variable (e.g., ```data```)\n",
        "- NOTE: Use ```index_col=0``` as argument to set the index column.\n",
        "- Apply ```.head()``` on the data to see all is as expected"
      ]
    },
    {
      "cell_type": "code",
      "execution_count": 2,
      "id": "a5282ef5",
      "metadata": {
        "id": "a5282ef5",
        "outputId": "60c8bce8-680e-430e-c523-fb1e8a124e26",
        "colab": {
          "base_uri": "https://localhost:8080/",
          "height": 331
        }
      },
      "outputs": [
        {
          "output_type": "execute_result",
          "data": {
            "text/plain": [
              "             ABW       AFE       AFG       AFW       AGO       ALB  AND  \\\n",
              "Year                                                                      \n",
              "1960  204.631696  0.906060  0.046057  0.090880  0.100835  1.258195  NaN   \n",
              "1961  208.837879  0.922474  0.053589  0.095283  0.082204  1.374186  NaN   \n",
              "1962  226.081890  0.930816  0.073721  0.096612  0.210533  1.439956  NaN   \n",
              "1963  214.785217  0.940570  0.074161  0.112376  0.202739  1.181681  NaN   \n",
              "1964  207.626699  0.996033  0.086174  0.133258  0.213562  1.111742  NaN   \n",
              "\n",
              "           ARB       ARE       ARG  ...  VIR       VNM       VUT       WLD  \\\n",
              "Year                                ...                                      \n",
              "1960  0.609268  0.119037  2.383343  ...  NaN  0.181947       NaN  3.121158   \n",
              "1961  0.662618  0.109136  2.458551  ...  NaN  0.183099       NaN  3.068090   \n",
              "1962  0.727117  0.163542  2.538447  ...  NaN  0.217694  0.595002  3.114839   \n",
              "1963  0.853116  0.175833  2.330685  ...  NaN  0.196997  0.471849  3.221195   \n",
              "1964  0.972381  0.132815  2.553442  ...  NaN  0.209870  0.864427  3.324046   \n",
              "\n",
              "           WSM  XKX       YEM       ZAF       ZMB       ZWE  \n",
              "Year                                                         \n",
              "1960  0.135031  NaN  0.011038  5.727223       NaN       NaN  \n",
              "1961  0.163542  NaN  0.013599  5.832621       NaN       NaN  \n",
              "1962  0.158377  NaN  0.012729  5.887168       NaN       NaN  \n",
              "1963  0.184037  NaN  0.014518  5.961337       NaN       NaN  \n",
              "1964  0.208106  NaN  0.017550  6.332343  0.946606  1.034904  \n",
              "\n",
              "[5 rows x 266 columns]"
            ],
            "text/html": [
              "\n",
              "  <div id=\"df-90e02876-6cde-4369-b2b7-dea40038aa47\">\n",
              "    <div class=\"colab-df-container\">\n",
              "      <div>\n",
              "<style scoped>\n",
              "    .dataframe tbody tr th:only-of-type {\n",
              "        vertical-align: middle;\n",
              "    }\n",
              "\n",
              "    .dataframe tbody tr th {\n",
              "        vertical-align: top;\n",
              "    }\n",
              "\n",
              "    .dataframe thead th {\n",
              "        text-align: right;\n",
              "    }\n",
              "</style>\n",
              "<table border=\"1\" class=\"dataframe\">\n",
              "  <thead>\n",
              "    <tr style=\"text-align: right;\">\n",
              "      <th></th>\n",
              "      <th>ABW</th>\n",
              "      <th>AFE</th>\n",
              "      <th>AFG</th>\n",
              "      <th>AFW</th>\n",
              "      <th>AGO</th>\n",
              "      <th>ALB</th>\n",
              "      <th>AND</th>\n",
              "      <th>ARB</th>\n",
              "      <th>ARE</th>\n",
              "      <th>ARG</th>\n",
              "      <th>...</th>\n",
              "      <th>VIR</th>\n",
              "      <th>VNM</th>\n",
              "      <th>VUT</th>\n",
              "      <th>WLD</th>\n",
              "      <th>WSM</th>\n",
              "      <th>XKX</th>\n",
              "      <th>YEM</th>\n",
              "      <th>ZAF</th>\n",
              "      <th>ZMB</th>\n",
              "      <th>ZWE</th>\n",
              "    </tr>\n",
              "    <tr>\n",
              "      <th>Year</th>\n",
              "      <th></th>\n",
              "      <th></th>\n",
              "      <th></th>\n",
              "      <th></th>\n",
              "      <th></th>\n",
              "      <th></th>\n",
              "      <th></th>\n",
              "      <th></th>\n",
              "      <th></th>\n",
              "      <th></th>\n",
              "      <th></th>\n",
              "      <th></th>\n",
              "      <th></th>\n",
              "      <th></th>\n",
              "      <th></th>\n",
              "      <th></th>\n",
              "      <th></th>\n",
              "      <th></th>\n",
              "      <th></th>\n",
              "      <th></th>\n",
              "      <th></th>\n",
              "    </tr>\n",
              "  </thead>\n",
              "  <tbody>\n",
              "    <tr>\n",
              "      <th>1960</th>\n",
              "      <td>204.631696</td>\n",
              "      <td>0.906060</td>\n",
              "      <td>0.046057</td>\n",
              "      <td>0.090880</td>\n",
              "      <td>0.100835</td>\n",
              "      <td>1.258195</td>\n",
              "      <td>NaN</td>\n",
              "      <td>0.609268</td>\n",
              "      <td>0.119037</td>\n",
              "      <td>2.383343</td>\n",
              "      <td>...</td>\n",
              "      <td>NaN</td>\n",
              "      <td>0.181947</td>\n",
              "      <td>NaN</td>\n",
              "      <td>3.121158</td>\n",
              "      <td>0.135031</td>\n",
              "      <td>NaN</td>\n",
              "      <td>0.011038</td>\n",
              "      <td>5.727223</td>\n",
              "      <td>NaN</td>\n",
              "      <td>NaN</td>\n",
              "    </tr>\n",
              "    <tr>\n",
              "      <th>1961</th>\n",
              "      <td>208.837879</td>\n",
              "      <td>0.922474</td>\n",
              "      <td>0.053589</td>\n",
              "      <td>0.095283</td>\n",
              "      <td>0.082204</td>\n",
              "      <td>1.374186</td>\n",
              "      <td>NaN</td>\n",
              "      <td>0.662618</td>\n",
              "      <td>0.109136</td>\n",
              "      <td>2.458551</td>\n",
              "      <td>...</td>\n",
              "      <td>NaN</td>\n",
              "      <td>0.183099</td>\n",
              "      <td>NaN</td>\n",
              "      <td>3.068090</td>\n",
              "      <td>0.163542</td>\n",
              "      <td>NaN</td>\n",
              "      <td>0.013599</td>\n",
              "      <td>5.832621</td>\n",
              "      <td>NaN</td>\n",
              "      <td>NaN</td>\n",
              "    </tr>\n",
              "    <tr>\n",
              "      <th>1962</th>\n",
              "      <td>226.081890</td>\n",
              "      <td>0.930816</td>\n",
              "      <td>0.073721</td>\n",
              "      <td>0.096612</td>\n",
              "      <td>0.210533</td>\n",
              "      <td>1.439956</td>\n",
              "      <td>NaN</td>\n",
              "      <td>0.727117</td>\n",
              "      <td>0.163542</td>\n",
              "      <td>2.538447</td>\n",
              "      <td>...</td>\n",
              "      <td>NaN</td>\n",
              "      <td>0.217694</td>\n",
              "      <td>0.595002</td>\n",
              "      <td>3.114839</td>\n",
              "      <td>0.158377</td>\n",
              "      <td>NaN</td>\n",
              "      <td>0.012729</td>\n",
              "      <td>5.887168</td>\n",
              "      <td>NaN</td>\n",
              "      <td>NaN</td>\n",
              "    </tr>\n",
              "    <tr>\n",
              "      <th>1963</th>\n",
              "      <td>214.785217</td>\n",
              "      <td>0.940570</td>\n",
              "      <td>0.074161</td>\n",
              "      <td>0.112376</td>\n",
              "      <td>0.202739</td>\n",
              "      <td>1.181681</td>\n",
              "      <td>NaN</td>\n",
              "      <td>0.853116</td>\n",
              "      <td>0.175833</td>\n",
              "      <td>2.330685</td>\n",
              "      <td>...</td>\n",
              "      <td>NaN</td>\n",
              "      <td>0.196997</td>\n",
              "      <td>0.471849</td>\n",
              "      <td>3.221195</td>\n",
              "      <td>0.184037</td>\n",
              "      <td>NaN</td>\n",
              "      <td>0.014518</td>\n",
              "      <td>5.961337</td>\n",
              "      <td>NaN</td>\n",
              "      <td>NaN</td>\n",
              "    </tr>\n",
              "    <tr>\n",
              "      <th>1964</th>\n",
              "      <td>207.626699</td>\n",
              "      <td>0.996033</td>\n",
              "      <td>0.086174</td>\n",
              "      <td>0.133258</td>\n",
              "      <td>0.213562</td>\n",
              "      <td>1.111742</td>\n",
              "      <td>NaN</td>\n",
              "      <td>0.972381</td>\n",
              "      <td>0.132815</td>\n",
              "      <td>2.553442</td>\n",
              "      <td>...</td>\n",
              "      <td>NaN</td>\n",
              "      <td>0.209870</td>\n",
              "      <td>0.864427</td>\n",
              "      <td>3.324046</td>\n",
              "      <td>0.208106</td>\n",
              "      <td>NaN</td>\n",
              "      <td>0.017550</td>\n",
              "      <td>6.332343</td>\n",
              "      <td>0.946606</td>\n",
              "      <td>1.034904</td>\n",
              "    </tr>\n",
              "  </tbody>\n",
              "</table>\n",
              "<p>5 rows × 266 columns</p>\n",
              "</div>\n",
              "      <button class=\"colab-df-convert\" onclick=\"convertToInteractive('df-90e02876-6cde-4369-b2b7-dea40038aa47')\"\n",
              "              title=\"Convert this dataframe to an interactive table.\"\n",
              "              style=\"display:none;\">\n",
              "        \n",
              "  <svg xmlns=\"http://www.w3.org/2000/svg\" height=\"24px\"viewBox=\"0 0 24 24\"\n",
              "       width=\"24px\">\n",
              "    <path d=\"M0 0h24v24H0V0z\" fill=\"none\"/>\n",
              "    <path d=\"M18.56 5.44l.94 2.06.94-2.06 2.06-.94-2.06-.94-.94-2.06-.94 2.06-2.06.94zm-11 1L8.5 8.5l.94-2.06 2.06-.94-2.06-.94L8.5 2.5l-.94 2.06-2.06.94zm10 10l.94 2.06.94-2.06 2.06-.94-2.06-.94-.94-2.06-.94 2.06-2.06.94z\"/><path d=\"M17.41 7.96l-1.37-1.37c-.4-.4-.92-.59-1.43-.59-.52 0-1.04.2-1.43.59L10.3 9.45l-7.72 7.72c-.78.78-.78 2.05 0 2.83L4 21.41c.39.39.9.59 1.41.59.51 0 1.02-.2 1.41-.59l7.78-7.78 2.81-2.81c.8-.78.8-2.07 0-2.86zM5.41 20L4 18.59l7.72-7.72 1.47 1.35L5.41 20z\"/>\n",
              "  </svg>\n",
              "      </button>\n",
              "      \n",
              "  <style>\n",
              "    .colab-df-container {\n",
              "      display:flex;\n",
              "      flex-wrap:wrap;\n",
              "      gap: 12px;\n",
              "    }\n",
              "\n",
              "    .colab-df-convert {\n",
              "      background-color: #E8F0FE;\n",
              "      border: none;\n",
              "      border-radius: 50%;\n",
              "      cursor: pointer;\n",
              "      display: none;\n",
              "      fill: #1967D2;\n",
              "      height: 32px;\n",
              "      padding: 0 0 0 0;\n",
              "      width: 32px;\n",
              "    }\n",
              "\n",
              "    .colab-df-convert:hover {\n",
              "      background-color: #E2EBFA;\n",
              "      box-shadow: 0px 1px 2px rgba(60, 64, 67, 0.3), 0px 1px 3px 1px rgba(60, 64, 67, 0.15);\n",
              "      fill: #174EA6;\n",
              "    }\n",
              "\n",
              "    [theme=dark] .colab-df-convert {\n",
              "      background-color: #3B4455;\n",
              "      fill: #D2E3FC;\n",
              "    }\n",
              "\n",
              "    [theme=dark] .colab-df-convert:hover {\n",
              "      background-color: #434B5C;\n",
              "      box-shadow: 0px 1px 3px 1px rgba(0, 0, 0, 0.15);\n",
              "      filter: drop-shadow(0px 1px 2px rgba(0, 0, 0, 0.3));\n",
              "      fill: #FFFFFF;\n",
              "    }\n",
              "  </style>\n",
              "\n",
              "      <script>\n",
              "        const buttonEl =\n",
              "          document.querySelector('#df-90e02876-6cde-4369-b2b7-dea40038aa47 button.colab-df-convert');\n",
              "        buttonEl.style.display =\n",
              "          google.colab.kernel.accessAllowed ? 'block' : 'none';\n",
              "\n",
              "        async function convertToInteractive(key) {\n",
              "          const element = document.querySelector('#df-90e02876-6cde-4369-b2b7-dea40038aa47');\n",
              "          const dataTable =\n",
              "            await google.colab.kernel.invokeFunction('convertToInteractive',\n",
              "                                                     [key], {});\n",
              "          if (!dataTable) return;\n",
              "\n",
              "          const docLinkHtml = 'Like what you see? Visit the ' +\n",
              "            '<a target=\"_blank\" href=https://colab.research.google.com/notebooks/data_table.ipynb>data table notebook</a>'\n",
              "            + ' to learn more about interactive tables.';\n",
              "          element.innerHTML = '';\n",
              "          dataTable['output_type'] = 'display_data';\n",
              "          await google.colab.output.renderOutput(dataTable, element);\n",
              "          const docLink = document.createElement('div');\n",
              "          docLink.innerHTML = docLinkHtml;\n",
              "          element.appendChild(docLink);\n",
              "        }\n",
              "      </script>\n",
              "    </div>\n",
              "  </div>\n",
              "  "
            ]
          },
          "metadata": {},
          "execution_count": 2
        }
      ],
      "source": [
        "data = pd.read_csv('https://raw.githubusercontent.com/LearnPythonWithRune/DataScienceWithPython/main/jupyter/final/files/WorldBank-ATM.CO2E.PC_DS2.csv', index_col=0)\n",
        "data.head()"
      ]
    },
    {
      "cell_type": "markdown",
      "id": "a2377dd7",
      "metadata": {
        "id": "a2377dd7"
      },
      "source": [
        "### Step 1.c: Size of data\n",
        "- The columns represent countries and rows years\n",
        "- Apply ```.shape``` on the DataFrame to see if data is as expected"
      ]
    },
    {
      "cell_type": "code",
      "execution_count": 3,
      "id": "6ac9724d",
      "metadata": {
        "id": "6ac9724d",
        "outputId": "80ed05e9-e76a-4d73-b6a4-685d3ffe9ed9",
        "colab": {
          "base_uri": "https://localhost:8080/"
        }
      },
      "outputs": [
        {
          "output_type": "execute_result",
          "data": {
            "text/plain": [
              "(59, 266)"
            ]
          },
          "metadata": {},
          "execution_count": 3
        }
      ],
      "source": [
        "data.shape"
      ]
    },
    {
      "cell_type": "markdown",
      "id": "3bec949d",
      "metadata": {
        "id": "3bec949d"
      },
      "source": [
        "## Step 2: Prepare\n",
        "- Explore data\n",
        "- Visualize ideas\n",
        "- Cleaning data"
      ]
    },
    {
      "cell_type": "markdown",
      "id": "6a5d948d",
      "metadata": {
        "id": "6a5d948d"
      },
      "source": [
        "### Step 2.a: Check the data types\n",
        "- This step tells you if some numeric column is not represented numeric.\n",
        "- Get the data types by ```.dtypes```\n",
        "- We expect all data to numeric\n",
        "- Try out ```.info()``` to get an overview."
      ]
    },
    {
      "cell_type": "code",
      "execution_count": 4,
      "id": "91b3bd10",
      "metadata": {
        "id": "91b3bd10",
        "outputId": "cfb31f59-e483-4fe4-f786-3b1b6284d81b",
        "colab": {
          "base_uri": "https://localhost:8080/"
        }
      },
      "outputs": [
        {
          "output_type": "execute_result",
          "data": {
            "text/plain": [
              "ABW    float64\n",
              "AFE    float64\n",
              "AFG    float64\n",
              "AFW    float64\n",
              "AGO    float64\n",
              "        ...   \n",
              "XKX    float64\n",
              "YEM    float64\n",
              "ZAF    float64\n",
              "ZMB    float64\n",
              "ZWE    float64\n",
              "Length: 266, dtype: object"
            ]
          },
          "metadata": {},
          "execution_count": 4
        }
      ],
      "source": [
        "data.dtypes"
      ]
    },
    {
      "cell_type": "code",
      "execution_count": 5,
      "id": "6bb27513",
      "metadata": {
        "id": "6bb27513",
        "outputId": "9daad563-f237-47be-afb6-0d5b7f9712f1",
        "colab": {
          "base_uri": "https://localhost:8080/"
        }
      },
      "outputs": [
        {
          "output_type": "stream",
          "name": "stdout",
          "text": [
            "<class 'pandas.core.frame.DataFrame'>\n",
            "Int64Index: 59 entries, 1960 to 2018\n",
            "Columns: 266 entries, ABW to ZWE\n",
            "dtypes: float64(266)\n",
            "memory usage: 123.1 KB\n"
          ]
        }
      ],
      "source": [
        "data.info()"
      ]
    },
    {
      "cell_type": "markdown",
      "id": "2867789a",
      "metadata": {
        "id": "2867789a"
      },
      "source": [
        "### Step 2.b: Check for null (missing) values\n",
        "- Data often is missing entries - there can be many reasons for this\n",
        "- We need to deal with that (will do later in course)\n",
        "- Use ```.isnull().any()```\n",
        "- This is expected - but we need to be aware of it"
      ]
    },
    {
      "cell_type": "code",
      "execution_count": 6,
      "id": "be11a73e",
      "metadata": {
        "id": "be11a73e",
        "outputId": "8f0ecb3b-091a-44ff-c813-2e5f2864ad0e",
        "colab": {
          "base_uri": "https://localhost:8080/"
        }
      },
      "outputs": [
        {
          "output_type": "execute_result",
          "data": {
            "text/plain": [
              "ABW     True\n",
              "AFE    False\n",
              "AFG    False\n",
              "AFW    False\n",
              "AGO    False\n",
              "       ...  \n",
              "XKX     True\n",
              "YEM    False\n",
              "ZAF    False\n",
              "ZMB     True\n",
              "ZWE     True\n",
              "Length: 266, dtype: bool"
            ]
          },
          "metadata": {},
          "execution_count": 6
        }
      ],
      "source": [
        "data.isnull().any()"
      ]
    },
    {
      "cell_type": "code",
      "execution_count": 6,
      "id": "17645f68",
      "metadata": {
        "id": "17645f68"
      },
      "outputs": [],
      "source": [
        ""
      ]
    },
    {
      "cell_type": "markdown",
      "id": "137fdfde",
      "metadata": {
        "id": "137fdfde"
      },
      "source": [
        "### Step 2.c: Visualize number of missing data points\n",
        "- To get an idea of the maginitude of the problem you can visualize the number of missing rows for each country.\n",
        "- ```.isnull()``` identifies missing values\n",
        "- ```.isnull().sum()``` counts the number of missing values per country\n",
        "- ```.isnull().sum().plot.hist()``` plots how many countries have missing values in ranges"
      ]
    },
    {
      "cell_type": "code",
      "execution_count": 7,
      "id": "5dd3bd16",
      "metadata": {
        "id": "5dd3bd16",
        "outputId": "cb85b3aa-2dc1-43e3-86eb-13e7619656f5",
        "colab": {
          "base_uri": "https://localhost:8080/",
          "height": 282
        }
      },
      "outputs": [
        {
          "output_type": "execute_result",
          "data": {
            "text/plain": [
              "<matplotlib.axes._subplots.AxesSubplot at 0x7f057d996850>"
            ]
          },
          "metadata": {},
          "execution_count": 7
        },
        {
          "output_type": "display_data",
          "data": {
            "text/plain": [
              "<Figure size 432x288 with 1 Axes>"
            ],
            "image/png": "[encoded data removed]"
          },
          "metadata": {
            "needs_background": "light"
          }
        }
      ],
      "source": [
        "data.isnull().sum().plot.hist()"
      ]
    },
    {
      "cell_type": "markdown",
      "id": "149707e4",
      "metadata": {
        "id": "149707e4"
      },
      "source": [
        "### Step 2.d: Clean data\n",
        "- A simple way to clean data is to remove columns with missing data\n",
        "- Use ```.dropna(axis='columns')``` to remove columns with missing data\n",
        "- Check how may columns are left\n",
        "    - HINT: apply ```len(...)``` on the DataFrame columns"
      ]
    },
    {
      "cell_type": "code",
      "execution_count": 8,
      "id": "a6513c70",
      "metadata": {
        "id": "a6513c70"
      },
      "outputs": [],
      "source": [
        "data_clean = data.dropna(axis='columns')"
      ]
    },
    {
      "cell_type": "code",
      "execution_count": 9,
      "id": "59c1913c",
      "metadata": {
        "id": "59c1913c",
        "outputId": "cbc565cc-52cc-4815-ccce-47f34c32b48c",
        "colab": {
          "base_uri": "https://localhost:8080/"
        }
      },
      "outputs": [
        {
          "output_type": "execute_result",
          "data": {
            "text/plain": [
              "(266, 191)"
            ]
          },
          "metadata": {},
          "execution_count": 9
        }
      ],
      "source": [
        "len(data.columns), len(data_clean.columns)"
      ]
    },
    {
      "cell_type": "markdown",
      "id": "8cc1cabe",
      "metadata": {
        "id": "8cc1cabe"
      },
      "source": [
        "## Step 3: Analyze\n",
        "- Feature selection\n",
        "- Model selection\n",
        "- Analyze data"
      ]
    },
    {
      "cell_type": "markdown",
      "id": "a3430e77",
      "metadata": {
        "id": "a3430e77"
      },
      "source": [
        "### Step 3.a: Percentage change 20 years\n",
        "- Calculate the change in CO2 per capita from 1998 to 2018\n",
        "    - HINT: Formula is (value in 2018 - value in 1998) / value in 1998\n",
        "    - This can be calculated on all rows simultaneously\n",
        "        - ```(data_clean.loc[2018] - data_clean.loc[1998])/data_clean.loc[1998]``` Assuming the data is in ```data_clean```"
      ]
    },
    {
      "cell_type": "code",
      "execution_count": 10,
      "id": "caa6d548",
      "metadata": {
        "id": "caa6d548"
      },
      "outputs": [],
      "source": [
        "data_plot = (data_clean.loc[2018] - data_clean.loc[1998])/data_clean.loc[1998]"
      ]
    },
    {
      "cell_type": "markdown",
      "id": "97ccf3b7",
      "metadata": {
        "id": "97ccf3b7"
      },
      "source": [
        "### Step 3.b: Describe the data \n",
        "- A great way to understand data is to apply ```.describe()```\n",
        "- How does this help you to understand data?"
      ]
    },
    {
      "cell_type": "code",
      "execution_count": 11,
      "id": "8f1fc2de",
      "metadata": {
        "id": "8f1fc2de",
        "outputId": "dd3fc36b-ef60-4d3c-f756-18486c88db32",
        "colab": {
          "base_uri": "https://localhost:8080/"
        }
      },
      "outputs": [
        {
          "output_type": "execute_result",
          "data": {
            "text/plain": [
              "count    191.000000\n",
              "mean       0.494745\n",
              "std        1.341795\n",
              "min       -0.737721\n",
              "25%       -0.101786\n",
              "50%        0.198752\n",
              "75%        0.643839\n",
              "max       15.694284\n",
              "dtype: float64"
            ]
          },
          "metadata": {},
          "execution_count": 11
        }
      ],
      "source": [
        "data_plot.describe()"
      ]
    },
    {
      "cell_type": "markdown",
      "id": "0a3163e0",
      "metadata": {
        "id": "0a3163e0"
      },
      "source": [
        "### Step 3.c: Visualization of data\n",
        "- This helps you to understand data better\n",
        "- We start with a histogram ```.plot.hist(bins=30)```\n",
        "- Try with a Pie Chart on values below 0\n",
        "    - HINT: Use ```(data_plot < 0).value_counts()``` (assuming data is in ```data_plot```)\n",
        "    - Chart: ```.plot.pie(colors=['r', 'g'], labels=['>= 0', '< 0'], title='Title', ylabel='label', autopct='%1.1f%%')```\n",
        "- Play around with other visualizations"
      ]
    },
    {
      "cell_type": "code",
      "execution_count": 12,
      "id": "62fc4ac1",
      "metadata": {
        "id": "62fc4ac1",
        "outputId": "27ca3446-0e91-4fd5-ce0f-fcd6b363e86b",
        "colab": {
          "base_uri": "https://localhost:8080/",
          "height": 282
        }
      },
      "outputs": [
        {
          "output_type": "execute_result",
          "data": {
            "text/plain": [
              "<matplotlib.axes._subplots.AxesSubplot at 0x7f057d8a9b90>"
            ]
          },
          "metadata": {},
          "execution_count": 12
        },
        {
          "output_type": "display_data",
          "data": {
            "text/plain": [
              "<Figure size 432x288 with 1 Axes>"
            ],
            "image/png": "[encoded data removed]"
          },
          "metadata": {
            "needs_background": "light"
          }
        }
      ],
      "source": [
        "data_plot.plot.hist(bins=30)"
      ]
    },
    {
      "cell_type": "code",
      "execution_count": 13,
      "id": "cd60ef42",
      "metadata": {
        "id": "cd60ef42",
        "outputId": "c0c2bb82-7bf9-4a6a-8741-58a45c7e6529",
        "colab": {
          "base_uri": "https://localhost:8080/"
        }
      },
      "outputs": [
        {
          "output_type": "execute_result",
          "data": {
            "text/plain": [
              "False    123\n",
              "True      68\n",
              "dtype: int64"
            ]
          },
          "metadata": {},
          "execution_count": 13
        }
      ],
      "source": [
        "(data_plot < 0).value_counts()\n"
      ]
    },
    {
      "cell_type": "code",
      "execution_count": 14,
      "id": "3482b0d6",
      "metadata": {
        "id": "3482b0d6",
        "outputId": "1ddc6a3f-b62b-4990-f758-f4832738a06f",
        "colab": {
          "base_uri": "https://localhost:8080/",
          "height": 281
        }
      },
      "outputs": [
        {
          "output_type": "execute_result",
          "data": {
            "text/plain": [
              "<matplotlib.axes._subplots.AxesSubplot at 0x7f057d358890>"
            ]
          },
          "metadata": {},
          "execution_count": 14
        },
        {
          "output_type": "display_data",
          "data": {
            "text/plain": [
              "<Figure size 432x288 with 1 Axes>"
            ],
            "image/png": "[encoded data removed]"
          },
          "metadata": {}
        }
      ],
      "source": [
        "(data_plot < 0).value_counts().plot.pie(colors=['r', 'g'], labels=['>= 0', '< 0'], title='Title', ylabel='label', autopct='%1.1f%%')"
      ]
    },
    {
      "cell_type": "markdown",
      "id": "98a71ee2",
      "metadata": {
        "id": "98a71ee2"
      },
      "source": [
        "## Step 4: Report\n",
        "- Present findings\n",
        "- Visualize results\n",
        "- Credibility counts"
      ]
    },
    {
      "cell_type": "markdown",
      "id": "ff2079f3",
      "metadata": {
        "id": "ff2079f3"
      },
      "source": [
        "### Step 4.a: Present a chart\n",
        "- The goal here is to present your message\n",
        "- Visualize one chart\n",
        "- Add a headline (title) to give the audience a message"
      ]
    },
    {
      "cell_type": "code",
      "execution_count": 15,
      "id": "8ddddbab",
      "metadata": {
        "id": "8ddddbab",
        "outputId": "92055cde-b0cc-4111-e38e-c1d121e3fc96",
        "colab": {
          "base_uri": "https://localhost:8080/",
          "height": 281
        }
      },
      "outputs": [
        {
          "output_type": "execute_result",
          "data": {
            "text/plain": [
              "<matplotlib.axes._subplots.AxesSubplot at 0x7f057d31ef90>"
            ]
          },
          "metadata": {},
          "execution_count": 15
        },
        {
          "output_type": "display_data",
          "data": {
            "text/plain": [
              "<Figure size 432x288 with 1 Axes>"
            ],
            "image/png": "[encoded data removed]"
          },
          "metadata": {}
        }
      ],
      "source": [
        "(data_plot < 0).value_counts().plot.pie(colors=['r', 'g'], labels=['>= 0', '< 0'], title='Countries with decrease CO2 per capita', ylabel='20 years', autopct='%1.1f%%')"
      ]
    },
    {
      "cell_type": "markdown",
      "id": "dc73e667",
      "metadata": {
        "id": "dc73e667"
      },
      "source": [
        "### Step 4.b (Optional): Present another chart\n",
        "- Can you make a supporting chart?\n",
        "- Or dig deeper into the data?\n",
        "- Does this give a true picture of the situation?\n",
        "- Ideas:\n",
        "    - Look at the last 10 years\n",
        "    - Are many countris close 0"
      ]
    },
    {
      "cell_type": "code",
      "execution_count": 16,
      "id": "516e55f4",
      "metadata": {
        "id": "516e55f4"
      },
      "outputs": [],
      "source": [
        "data_plot2 = (data_clean.loc[2018] - data_clean.loc[2008])/data_clean.loc[2008]"
      ]
    },
    {
      "cell_type": "code",
      "execution_count": 17,
      "id": "9bc55889",
      "metadata": {
        "id": "9bc55889",
        "outputId": "ba6458e2-c678-460d-b254-a1882076d6bc",
        "colab": {
          "base_uri": "https://localhost:8080/",
          "height": 281
        }
      },
      "outputs": [
        {
          "output_type": "execute_result",
          "data": {
            "text/plain": [
              "<matplotlib.axes._subplots.AxesSubplot at 0x7f057d2f2510>"
            ]
          },
          "metadata": {},
          "execution_count": 17
        },
        {
          "output_type": "display_data",
          "data": {
            "text/plain": [
              "<Figure size 432x288 with 1 Axes>"
            ],
            "image/png": "[encoded data removed]"
          },
          "metadata": {}
        }
      ],
      "source": [
        "(data_plot2 < 0).value_counts().plot.pie(colors=['r', 'g'], labels=['>= 0', '< 0'], title='Countries with decrease CO2 per capita', ylabel='20 years', autopct='%1.1f%%')\n"
      ]
    },
    {
      "cell_type": "markdown",
      "id": "65c865f1",
      "metadata": {
        "id": "65c865f1"
      },
      "source": [
        "## Step 5: Actions\n",
        "- Use insights\n",
        "- Measure impact\n",
        "- Main goal"
      ]
    },
    {
      "cell_type": "markdown",
      "id": "ba773e6b",
      "metadata": {
        "id": "ba773e6b"
      },
      "source": [
        "### Step 5.a: Actions\n",
        "- Propose actions"
      ]
    },
    {
      "cell_type": "code",
      "execution_count": 17,
      "id": "3648c4ed",
      "metadata": {
        "id": "3648c4ed"
      },
      "outputs": [],
      "source": [
        ""
      ]
    },
    {
      "cell_type": "code",
      "execution_count": 17,
      "id": "53da70f0",
      "metadata": {
        "id": "53da70f0"
      },
      "outputs": [],
      "source": [
        ""
      ]
    },
    {
      "cell_type": "markdown",
      "id": "e52200d1",
      "metadata": {
        "id": "e52200d1"
      },
      "source": [
        "### Step 5.b Measure impact\n",
        "- Propose how to measure impact of actions"
      ]
    },
    {
      "cell_type": "code",
      "execution_count": 17,
      "id": "87c50003",
      "metadata": {
        "id": "87c50003"
      },
      "outputs": [],
      "source": [
        ""
      ]
    },
    {
      "cell_type": "code",
      "execution_count": 17,
      "id": "37765b2b",
      "metadata": {
        "id": "37765b2b"
      },
      "outputs": [],
      "source": [
        ""
      ]
    }
  ],
  "metadata": {
    "language_info": {
      "name": "python"
    },
    "colab": {
      "name": "01 - Project - CO2 Per Capita.ipynb",
      "provenance": []
    },
    "kernelspec": {
      "name": "python3",
      "display_name": "Python 3"
    },
    "gpuClass": "standard"
  },
  "nbformat": 4,
  "nbformat_minor": 5
}