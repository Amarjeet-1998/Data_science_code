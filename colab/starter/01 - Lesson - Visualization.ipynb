{
  "cells": [
    {
      "cell_type": "markdown",
      "id": "3bdc946b",
      "metadata": {
        "id": "3bdc946b"
      },
      "source": [
        "<a \n",
        " href=\"https://colab.research.google.com/github/LearnPythonWithRune/DataScienceWithPython/blob/main/colab/starter/01 - Lesson - Visualization.ipynb\"\n",
        " target=\"_parent\">\n",
        "<img \n",
        " src=\"https://colab.research.google.com/assets/colab-badge.svg\"\n",
        "alt=\"Open In Colab\"/>\n",
        "</a>"
      ]
    },
    {
      "cell_type": "markdown",
      "id": "ff26ea89",
      "metadata": {
        "id": "ff26ea89"
      },
      "source": [
        "# Data Visualization"
      ]
    },
    {
      "cell_type": "markdown",
      "id": "943f2359",
      "metadata": {
        "id": "943f2359"
      },
      "source": [
        "![Data Science Workflow](https://raw.githubusercontent.com/LearnPythonWithRune/DataScienceWithPython/main/jupyter/final/img/ds-workflow.png)"
      ]
    },
    {
      "cell_type": "markdown",
      "id": "f7df062b",
      "metadata": {
        "id": "f7df062b"
      },
      "source": [
        "## Data Visualization\n",
        "\n",
        "Key skill today\n",
        ">  *“The ability to take data-to be able to understand it, to process it, to extract value from it, to visualize it, to communicate it-that’s going to be a hugely important skill in the next decades.\"*\n",
        "\n",
        "[Hal Varian (Google’s Chief Economist)](https://en.wikipedia.org/wiki/Hal_Varian)"
      ]
    },
    {
      "cell_type": "markdown",
      "id": "fb269ad4",
      "metadata": {
        "id": "fb269ad4"
      },
      "source": [
        "## Data Visualization for a Data Scientist\n",
        "1. **Data Quality**: Explore data quality including identifying outliers\n",
        "2. **Data Exploration**: Understand data with visualizing ideas\n",
        "3. **Data Presentation**: Present results"
      ]
    },
    {
      "cell_type": "markdown",
      "id": "2dee1d5c",
      "metadata": {
        "id": "2dee1d5c"
      },
      "source": [
        "## The power of Data Visualization\n",
        "\n",
        "### Consider the following data\n",
        "- what is the connection?\n",
        "- See any patterns?"
      ]
    },
    {
      "cell_type": "code",
      "execution_count": 1,
      "id": "816e9919",
      "metadata": {
        "id": "816e9919"
      },
      "outputs": [],
      "source": [
        "import pandas as pd"
      ]
    },
    {
      "cell_type": "code",
      "execution_count": 5,
      "id": "2a52072b",
      "metadata": {
        "id": "2a52072b"
      },
      "outputs": [],
      "source": [
        "sample = pd.read_csv('/content/Book1.csv')"
      ]
    },
    {
      "cell_type": "code",
      "execution_count": 8,
      "id": "64194839",
      "metadata": {
        "id": "64194839",
        "outputId": "137bd862-055b-4217-fc7e-9df149c4a553",
        "colab": {
          "base_uri": "https://localhost:8080/",
          "height": 206
        }
      },
      "outputs": [
        {
          "output_type": "execute_result",
          "data": {
            "text/plain": [
              "   Unnamed: 0         x         y  Unnamed: 3  Unnamed: 4  Unnamed: 5  \\\n",
              "0         0.0  1.105722  1.320945         NaN         NaN         NaN   \n",
              "1         1.0  1.158193  1.480131         NaN         NaN         NaN   \n",
              "2         2.0  1.068022  1.173479         NaN         NaN         NaN   \n",
              "3         3.0  1.131291  1.294706         NaN         NaN         NaN   \n",
              "4         4.0  1.125997  1.293024         NaN         NaN         NaN   \n",
              "\n",
              "   Unnamed: 6  \n",
              "0         NaN  \n",
              "1         NaN  \n",
              "2         NaN  \n",
              "3         NaN  \n",
              "4         NaN  "
            ],
            "text/html": [
              "\n",
              "  <div id=\"df-776c7355-4a3f-4500-9a91-55ff9081c23a\">\n",
              "    <div class=\"colab-df-container\">\n",
              "      <div>\n",
              "<style scoped>\n",
              "    .dataframe tbody tr th:only-of-type {\n",
              "        vertical-align: middle;\n",
              "    }\n",
              "\n",
              "    .dataframe tbody tr th {\n",
              "        vertical-align: top;\n",
              "    }\n",
              "\n",
              "    .dataframe thead th {\n",
              "        text-align: right;\n",
              "    }\n",
              "</style>\n",
              "<table border=\"1\" class=\"dataframe\">\n",
              "  <thead>\n",
              "    <tr style=\"text-align: right;\">\n",
              "      <th></th>\n",
              "      <th>Unnamed: 0</th>\n",
              "      <th>x</th>\n",
              "      <th>y</th>\n",
              "      <th>Unnamed: 3</th>\n",
              "      <th>Unnamed: 4</th>\n",
              "      <th>Unnamed: 5</th>\n",
              "      <th>Unnamed: 6</th>\n",
              "    </tr>\n",
              "  </thead>\n",
              "  <tbody>\n",
              "    <tr>\n",
              "      <th>0</th>\n",
              "      <td>0.0</td>\n",
              "      <td>1.105722</td>\n",
              "      <td>1.320945</td>\n",
              "      <td>NaN</td>\n",
              "      <td>NaN</td>\n",
              "      <td>NaN</td>\n",
              "      <td>NaN</td>\n",
              "    </tr>\n",
              "    <tr>\n",
              "      <th>1</th>\n",
              "      <td>1.0</td>\n",
              "      <td>1.158193</td>\n",
              "      <td>1.480131</td>\n",
              "      <td>NaN</td>\n",
              "      <td>NaN</td>\n",
              "      <td>NaN</td>\n",
              "      <td>NaN</td>\n",
              "    </tr>\n",
              "    <tr>\n",
              "      <th>2</th>\n",
              "      <td>2.0</td>\n",
              "      <td>1.068022</td>\n",
              "      <td>1.173479</td>\n",
              "      <td>NaN</td>\n",
              "      <td>NaN</td>\n",
              "      <td>NaN</td>\n",
              "      <td>NaN</td>\n",
              "    </tr>\n",
              "    <tr>\n",
              "      <th>3</th>\n",
              "      <td>3.0</td>\n",
              "      <td>1.131291</td>\n",
              "      <td>1.294706</td>\n",
              "      <td>NaN</td>\n",
              "      <td>NaN</td>\n",
              "      <td>NaN</td>\n",
              "      <td>NaN</td>\n",
              "    </tr>\n",
              "    <tr>\n",
              "      <th>4</th>\n",
              "      <td>4.0</td>\n",
              "      <td>1.125997</td>\n",
              "      <td>1.293024</td>\n",
              "      <td>NaN</td>\n",
              "      <td>NaN</td>\n",
              "      <td>NaN</td>\n",
              "      <td>NaN</td>\n",
              "    </tr>\n",
              "  </tbody>\n",
              "</table>\n",
              "</div>\n",
              "      <button class=\"colab-df-convert\" onclick=\"convertToInteractive('df-776c7355-4a3f-4500-9a91-55ff9081c23a')\"\n",
              "              title=\"Convert this dataframe to an interactive table.\"\n",
              "              style=\"display:none;\">\n",
              "        \n",
              "  <svg xmlns=\"http://www.w3.org/2000/svg\" height=\"24px\"viewBox=\"0 0 24 24\"\n",
              "       width=\"24px\">\n",
              "    <path d=\"M0 0h24v24H0V0z\" fill=\"none\"/>\n",
              "    <path d=\"M18.56 5.44l.94 2.06.94-2.06 2.06-.94-2.06-.94-.94-2.06-.94 2.06-2.06.94zm-11 1L8.5 8.5l.94-2.06 2.06-.94-2.06-.94L8.5 2.5l-.94 2.06-2.06.94zm10 10l.94 2.06.94-2.06 2.06-.94-2.06-.94-.94-2.06-.94 2.06-2.06.94z\"/><path d=\"M17.41 7.96l-1.37-1.37c-.4-.4-.92-.59-1.43-.59-.52 0-1.04.2-1.43.59L10.3 9.45l-7.72 7.72c-.78.78-.78 2.05 0 2.83L4 21.41c.39.39.9.59 1.41.59.51 0 1.02-.2 1.41-.59l7.78-7.78 2.81-2.81c.8-.78.8-2.07 0-2.86zM5.41 20L4 18.59l7.72-7.72 1.47 1.35L5.41 20z\"/>\n",
              "  </svg>\n",
              "      </button>\n",
              "      \n",
              "  <style>\n",
              "    .colab-df-container {\n",
              "      display:flex;\n",
              "      flex-wrap:wrap;\n",
              "      gap: 12px;\n",
              "    }\n",
              "\n",
              "    .colab-df-convert {\n",
              "      background-color: #E8F0FE;\n",
              "      border: none;\n",
              "      border-radius: 50%;\n",
              "      cursor: pointer;\n",
              "      display: none;\n",
              "      fill: #1967D2;\n",
              "      height: 32px;\n",
              "      padding: 0 0 0 0;\n",
              "      width: 32px;\n",
              "    }\n",
              "\n",
              "    .colab-df-convert:hover {\n",
              "      background-color: #E2EBFA;\n",
              "      box-shadow: 0px 1px 2px rgba(60, 64, 67, 0.3), 0px 1px 3px 1px rgba(60, 64, 67, 0.15);\n",
              "      fill: #174EA6;\n",
              "    }\n",
              "\n",
              "    [theme=dark] .colab-df-convert {\n",
              "      background-color: #3B4455;\n",
              "      fill: #D2E3FC;\n",
              "    }\n",
              "\n",
              "    [theme=dark] .colab-df-convert:hover {\n",
              "      background-color: #434B5C;\n",
              "      box-shadow: 0px 1px 3px 1px rgba(0, 0, 0, 0.15);\n",
              "      filter: drop-shadow(0px 1px 2px rgba(0, 0, 0, 0.3));\n",
              "      fill: #FFFFFF;\n",
              "    }\n",
              "  </style>\n",
              "\n",
              "      <script>\n",
              "        const buttonEl =\n",
              "          document.querySelector('#df-776c7355-4a3f-4500-9a91-55ff9081c23a button.colab-df-convert');\n",
              "        buttonEl.style.display =\n",
              "          google.colab.kernel.accessAllowed ? 'block' : 'none';\n",
              "\n",
              "        async function convertToInteractive(key) {\n",
              "          const element = document.querySelector('#df-776c7355-4a3f-4500-9a91-55ff9081c23a');\n",
              "          const dataTable =\n",
              "            await google.colab.kernel.invokeFunction('convertToInteractive',\n",
              "                                                     [key], {});\n",
              "          if (!dataTable) return;\n",
              "\n",
              "          const docLinkHtml = 'Like what you see? Visit the ' +\n",
              "            '<a target=\"_blank\" href=https://colab.research.google.com/notebooks/data_table.ipynb>data table notebook</a>'\n",
              "            + ' to learn more about interactive tables.';\n",
              "          element.innerHTML = '';\n",
              "          dataTable['output_type'] = 'display_data';\n",
              "          await google.colab.output.renderOutput(dataTable, element);\n",
              "          const docLink = document.createElement('div');\n",
              "          docLink.innerHTML = docLinkHtml;\n",
              "          element.appendChild(docLink);\n",
              "        }\n",
              "      </script>\n",
              "    </div>\n",
              "  </div>\n",
              "  "
            ]
          },
          "metadata": {},
          "execution_count": 8
        }
      ],
      "source": [
        "sample.head(5)"
      ]
    },
    {
      "cell_type": "code",
      "source": [
        "sample.columns"
      ],
      "metadata": {
        "id": "6VcQrE6OIuU8",
        "outputId": "3d94ddf1-a346-4dba-827a-89b60df2d13c",
        "colab": {
          "base_uri": "https://localhost:8080/"
        }
      },
      "id": "6VcQrE6OIuU8",
      "execution_count": 9,
      "outputs": [
        {
          "output_type": "execute_result",
          "data": {
            "text/plain": [
              "Index(['Unnamed: 0', 'x', 'y', 'Unnamed: 3', 'Unnamed: 4', 'Unnamed: 5',\n",
              "       'Unnamed: 6'],\n",
              "      dtype='object')"
            ]
          },
          "metadata": {},
          "execution_count": 9
        }
      ]
    },
    {
      "cell_type": "code",
      "execution_count": 13,
      "id": "5f8da356",
      "metadata": {
        "id": "5f8da356"
      },
      "outputs": [],
      "source": [
        "sample.drop( 'Unnamed: 4', inplace=True, axis=1)\n",
        "sample.drop( 'Unnamed: 5', inplace=True, axis=1)\n",
        "sample.drop( 'Unnamed: 6', inplace=True, axis=1)\n",
        "\n"
      ]
    },
    {
      "cell_type": "code",
      "source": [
        "sample.drop( 'Unnamed: 0', inplace=True, axis=1)"
      ],
      "metadata": {
        "id": "U4n7b0qDJfJ6"
      },
      "id": "U4n7b0qDJfJ6",
      "execution_count": 15,
      "outputs": []
    },
    {
      "cell_type": "code",
      "source": [
        "sample"
      ],
      "metadata": {
        "id": "f8g7pSVEJqOO",
        "outputId": "fd3515d4-e254-4e2d-a222-bd101446ae9b",
        "colab": {
          "base_uri": "https://localhost:8080/",
          "height": 708
        }
      },
      "id": "f8g7pSVEJqOO",
      "execution_count": 16,
      "outputs": [
        {
          "output_type": "execute_result",
          "data": {
            "text/plain": [
              "           x         y\n",
              "0   1.105722  1.320945\n",
              "1   1.158193  1.480131\n",
              "2   1.068022  1.173479\n",
              "3   1.131291  1.294706\n",
              "4   1.125997  1.293024\n",
              "5   1.037332  0.977393\n",
              "6   1.051670  1.040798\n",
              "7   0.971699  0.977604\n",
              "8   1.102914  1.127956\n",
              "9   1.164161  1.431070\n",
              "10  1.161464  1.344481\n",
              "11  1.080161  1.191159\n",
              "12  0.996044  0.997308\n",
              "13  1.143305  1.412850\n",
              "14  1.062949  1.139761\n",
              "15  1.149252  1.455886\n",
              "16  1.190105  1.489407\n",
              "17  1.026498  1.153031\n",
              "18  1.110015  1.329586\n",
              "19  1.077741  1.277995\n",
              "20       NaN       NaN"
            ],
            "text/html": [
              "\n",
              "  <div id=\"df-e4fb5a6e-632d-47b3-bc0a-057f9efc7b4d\">\n",
              "    <div class=\"colab-df-container\">\n",
              "      <div>\n",
              "<style scoped>\n",
              "    .dataframe tbody tr th:only-of-type {\n",
              "        vertical-align: middle;\n",
              "    }\n",
              "\n",
              "    .dataframe tbody tr th {\n",
              "        vertical-align: top;\n",
              "    }\n",
              "\n",
              "    .dataframe thead th {\n",
              "        text-align: right;\n",
              "    }\n",
              "</style>\n",
              "<table border=\"1\" class=\"dataframe\">\n",
              "  <thead>\n",
              "    <tr style=\"text-align: right;\">\n",
              "      <th></th>\n",
              "      <th>x</th>\n",
              "      <th>y</th>\n",
              "    </tr>\n",
              "  </thead>\n",
              "  <tbody>\n",
              "    <tr>\n",
              "      <th>0</th>\n",
              "      <td>1.105722</td>\n",
              "      <td>1.320945</td>\n",
              "    </tr>\n",
              "    <tr>\n",
              "      <th>1</th>\n",
              "      <td>1.158193</td>\n",
              "      <td>1.480131</td>\n",
              "    </tr>\n",
              "    <tr>\n",
              "      <th>2</th>\n",
              "      <td>1.068022</td>\n",
              "      <td>1.173479</td>\n",
              "    </tr>\n",
              "    <tr>\n",
              "      <th>3</th>\n",
              "      <td>1.131291</td>\n",
              "      <td>1.294706</td>\n",
              "    </tr>\n",
              "    <tr>\n",
              "      <th>4</th>\n",
              "      <td>1.125997</td>\n",
              "      <td>1.293024</td>\n",
              "    </tr>\n",
              "    <tr>\n",
              "      <th>5</th>\n",
              "      <td>1.037332</td>\n",
              "      <td>0.977393</td>\n",
              "    </tr>\n",
              "    <tr>\n",
              "      <th>6</th>\n",
              "      <td>1.051670</td>\n",
              "      <td>1.040798</td>\n",
              "    </tr>\n",
              "    <tr>\n",
              "      <th>7</th>\n",
              "      <td>0.971699</td>\n",
              "      <td>0.977604</td>\n",
              "    </tr>\n",
              "    <tr>\n",
              "      <th>8</th>\n",
              "      <td>1.102914</td>\n",
              "      <td>1.127956</td>\n",
              "    </tr>\n",
              "    <tr>\n",
              "      <th>9</th>\n",
              "      <td>1.164161</td>\n",
              "      <td>1.431070</td>\n",
              "    </tr>\n",
              "    <tr>\n",
              "      <th>10</th>\n",
              "      <td>1.161464</td>\n",
              "      <td>1.344481</td>\n",
              "    </tr>\n",
              "    <tr>\n",
              "      <th>11</th>\n",
              "      <td>1.080161</td>\n",
              "      <td>1.191159</td>\n",
              "    </tr>\n",
              "    <tr>\n",
              "      <th>12</th>\n",
              "      <td>0.996044</td>\n",
              "      <td>0.997308</td>\n",
              "    </tr>\n",
              "    <tr>\n",
              "      <th>13</th>\n",
              "      <td>1.143305</td>\n",
              "      <td>1.412850</td>\n",
              "    </tr>\n",
              "    <tr>\n",
              "      <th>14</th>\n",
              "      <td>1.062949</td>\n",
              "      <td>1.139761</td>\n",
              "    </tr>\n",
              "    <tr>\n",
              "      <th>15</th>\n",
              "      <td>1.149252</td>\n",
              "      <td>1.455886</td>\n",
              "    </tr>\n",
              "    <tr>\n",
              "      <th>16</th>\n",
              "      <td>1.190105</td>\n",
              "      <td>1.489407</td>\n",
              "    </tr>\n",
              "    <tr>\n",
              "      <th>17</th>\n",
              "      <td>1.026498</td>\n",
              "      <td>1.153031</td>\n",
              "    </tr>\n",
              "    <tr>\n",
              "      <th>18</th>\n",
              "      <td>1.110015</td>\n",
              "      <td>1.329586</td>\n",
              "    </tr>\n",
              "    <tr>\n",
              "      <th>19</th>\n",
              "      <td>1.077741</td>\n",
              "      <td>1.277995</td>\n",
              "    </tr>\n",
              "    <tr>\n",
              "      <th>20</th>\n",
              "      <td>NaN</td>\n",
              "      <td>NaN</td>\n",
              "    </tr>\n",
              "  </tbody>\n",
              "</table>\n",
              "</div>\n",
              "      <button class=\"colab-df-convert\" onclick=\"convertToInteractive('df-e4fb5a6e-632d-47b3-bc0a-057f9efc7b4d')\"\n",
              "              title=\"Convert this dataframe to an interactive table.\"\n",
              "              style=\"display:none;\">\n",
              "        \n",
              "  <svg xmlns=\"http://www.w3.org/2000/svg\" height=\"24px\"viewBox=\"0 0 24 24\"\n",
              "       width=\"24px\">\n",
              "    <path d=\"M0 0h24v24H0V0z\" fill=\"none\"/>\n",
              "    <path d=\"M18.56 5.44l.94 2.06.94-2.06 2.06-.94-2.06-.94-.94-2.06-.94 2.06-2.06.94zm-11 1L8.5 8.5l.94-2.06 2.06-.94-2.06-.94L8.5 2.5l-.94 2.06-2.06.94zm10 10l.94 2.06.94-2.06 2.06-.94-2.06-.94-.94-2.06-.94 2.06-2.06.94z\"/><path d=\"M17.41 7.96l-1.37-1.37c-.4-.4-.92-.59-1.43-.59-.52 0-1.04.2-1.43.59L10.3 9.45l-7.72 7.72c-.78.78-.78 2.05 0 2.83L4 21.41c.39.39.9.59 1.41.59.51 0 1.02-.2 1.41-.59l7.78-7.78 2.81-2.81c.8-.78.8-2.07 0-2.86zM5.41 20L4 18.59l7.72-7.72 1.47 1.35L5.41 20z\"/>\n",
              "  </svg>\n",
              "      </button>\n",
              "      \n",
              "  <style>\n",
              "    .colab-df-container {\n",
              "      display:flex;\n",
              "      flex-wrap:wrap;\n",
              "      gap: 12px;\n",
              "    }\n",
              "\n",
              "    .colab-df-convert {\n",
              "      background-color: #E8F0FE;\n",
              "      border: none;\n",
              "      border-radius: 50%;\n",
              "      cursor: pointer;\n",
              "      display: none;\n",
              "      fill: #1967D2;\n",
              "      height: 32px;\n",
              "      padding: 0 0 0 0;\n",
              "      width: 32px;\n",
              "    }\n",
              "\n",
              "    .colab-df-convert:hover {\n",
              "      background-color: #E2EBFA;\n",
              "      box-shadow: 0px 1px 2px rgba(60, 64, 67, 0.3), 0px 1px 3px 1px rgba(60, 64, 67, 0.15);\n",
              "      fill: #174EA6;\n",
              "    }\n",
              "\n",
              "    [theme=dark] .colab-df-convert {\n",
              "      background-color: #3B4455;\n",
              "      fill: #D2E3FC;\n",
              "    }\n",
              "\n",
              "    [theme=dark] .colab-df-convert:hover {\n",
              "      background-color: #434B5C;\n",
              "      box-shadow: 0px 1px 3px 1px rgba(0, 0, 0, 0.15);\n",
              "      filter: drop-shadow(0px 1px 2px rgba(0, 0, 0, 0.3));\n",
              "      fill: #FFFFFF;\n",
              "    }\n",
              "  </style>\n",
              "\n",
              "      <script>\n",
              "        const buttonEl =\n",
              "          document.querySelector('#df-e4fb5a6e-632d-47b3-bc0a-057f9efc7b4d button.colab-df-convert');\n",
              "        buttonEl.style.display =\n",
              "          google.colab.kernel.accessAllowed ? 'block' : 'none';\n",
              "\n",
              "        async function convertToInteractive(key) {\n",
              "          const element = document.querySelector('#df-e4fb5a6e-632d-47b3-bc0a-057f9efc7b4d');\n",
              "          const dataTable =\n",
              "            await google.colab.kernel.invokeFunction('convertToInteractive',\n",
              "                                                     [key], {});\n",
              "          if (!dataTable) return;\n",
              "\n",
              "          const docLinkHtml = 'Like what you see? Visit the ' +\n",
              "            '<a target=\"_blank\" href=https://colab.research.google.com/notebooks/data_table.ipynb>data table notebook</a>'\n",
              "            + ' to learn more about interactive tables.';\n",
              "          element.innerHTML = '';\n",
              "          dataTable['output_type'] = 'display_data';\n",
              "          await google.colab.output.renderOutput(dataTable, element);\n",
              "          const docLink = document.createElement('div');\n",
              "          docLink.innerHTML = docLinkHtml;\n",
              "          element.appendChild(docLink);\n",
              "        }\n",
              "      </script>\n",
              "    </div>\n",
              "  </div>\n",
              "  "
            ]
          },
          "metadata": {},
          "execution_count": 16
        }
      ]
    },
    {
      "cell_type": "code",
      "source": [
        "sample = sample.drop(20)"
      ],
      "metadata": {
        "id": "-A5Q0gsbJ01C"
      },
      "id": "-A5Q0gsbJ01C",
      "execution_count": 18,
      "outputs": []
    },
    {
      "cell_type": "code",
      "source": [
        "sample"
      ],
      "metadata": {
        "id": "f4Yd6p9-J9vX",
        "outputId": "4a0b927f-2738-4a38-a9a8-f591eb21c1e1",
        "colab": {
          "base_uri": "https://localhost:8080/",
          "height": 676
        }
      },
      "id": "f4Yd6p9-J9vX",
      "execution_count": 19,
      "outputs": [
        {
          "output_type": "execute_result",
          "data": {
            "text/plain": [
              "           x         y\n",
              "0   1.105722  1.320945\n",
              "1   1.158193  1.480131\n",
              "2   1.068022  1.173479\n",
              "3   1.131291  1.294706\n",
              "4   1.125997  1.293024\n",
              "5   1.037332  0.977393\n",
              "6   1.051670  1.040798\n",
              "7   0.971699  0.977604\n",
              "8   1.102914  1.127956\n",
              "9   1.164161  1.431070\n",
              "10  1.161464  1.344481\n",
              "11  1.080161  1.191159\n",
              "12  0.996044  0.997308\n",
              "13  1.143305  1.412850\n",
              "14  1.062949  1.139761\n",
              "15  1.149252  1.455886\n",
              "16  1.190105  1.489407\n",
              "17  1.026498  1.153031\n",
              "18  1.110015  1.329586\n",
              "19  1.077741  1.277995"
            ],
            "text/html": [
              "\n",
              "  <div id=\"df-453e8b52-cb90-400b-b81b-93cbb6eeffa2\">\n",
              "    <div class=\"colab-df-container\">\n",
              "      <div>\n",
              "<style scoped>\n",
              "    .dataframe tbody tr th:only-of-type {\n",
              "        vertical-align: middle;\n",
              "    }\n",
              "\n",
              "    .dataframe tbody tr th {\n",
              "        vertical-align: top;\n",
              "    }\n",
              "\n",
              "    .dataframe thead th {\n",
              "        text-align: right;\n",
              "    }\n",
              "</style>\n",
              "<table border=\"1\" class=\"dataframe\">\n",
              "  <thead>\n",
              "    <tr style=\"text-align: right;\">\n",
              "      <th></th>\n",
              "      <th>x</th>\n",
              "      <th>y</th>\n",
              "    </tr>\n",
              "  </thead>\n",
              "  <tbody>\n",
              "    <tr>\n",
              "      <th>0</th>\n",
              "      <td>1.105722</td>\n",
              "      <td>1.320945</td>\n",
              "    </tr>\n",
              "    <tr>\n",
              "      <th>1</th>\n",
              "      <td>1.158193</td>\n",
              "      <td>1.480131</td>\n",
              "    </tr>\n",
              "    <tr>\n",
              "      <th>2</th>\n",
              "      <td>1.068022</td>\n",
              "      <td>1.173479</td>\n",
              "    </tr>\n",
              "    <tr>\n",
              "      <th>3</th>\n",
              "      <td>1.131291</td>\n",
              "      <td>1.294706</td>\n",
              "    </tr>\n",
              "    <tr>\n",
              "      <th>4</th>\n",
              "      <td>1.125997</td>\n",
              "      <td>1.293024</td>\n",
              "    </tr>\n",
              "    <tr>\n",
              "      <th>5</th>\n",
              "      <td>1.037332</td>\n",
              "      <td>0.977393</td>\n",
              "    </tr>\n",
              "    <tr>\n",
              "      <th>6</th>\n",
              "      <td>1.051670</td>\n",
              "      <td>1.040798</td>\n",
              "    </tr>\n",
              "    <tr>\n",
              "      <th>7</th>\n",
              "      <td>0.971699</td>\n",
              "      <td>0.977604</td>\n",
              "    </tr>\n",
              "    <tr>\n",
              "      <th>8</th>\n",
              "      <td>1.102914</td>\n",
              "      <td>1.127956</td>\n",
              "    </tr>\n",
              "    <tr>\n",
              "      <th>9</th>\n",
              "      <td>1.164161</td>\n",
              "      <td>1.431070</td>\n",
              "    </tr>\n",
              "    <tr>\n",
              "      <th>10</th>\n",
              "      <td>1.161464</td>\n",
              "      <td>1.344481</td>\n",
              "    </tr>\n",
              "    <tr>\n",
              "      <th>11</th>\n",
              "      <td>1.080161</td>\n",
              "      <td>1.191159</td>\n",
              "    </tr>\n",
              "    <tr>\n",
              "      <th>12</th>\n",
              "      <td>0.996044</td>\n",
              "      <td>0.997308</td>\n",
              "    </tr>\n",
              "    <tr>\n",
              "      <th>13</th>\n",
              "      <td>1.143305</td>\n",
              "      <td>1.412850</td>\n",
              "    </tr>\n",
              "    <tr>\n",
              "      <th>14</th>\n",
              "      <td>1.062949</td>\n",
              "      <td>1.139761</td>\n",
              "    </tr>\n",
              "    <tr>\n",
              "      <th>15</th>\n",
              "      <td>1.149252</td>\n",
              "      <td>1.455886</td>\n",
              "    </tr>\n",
              "    <tr>\n",
              "      <th>16</th>\n",
              "      <td>1.190105</td>\n",
              "      <td>1.489407</td>\n",
              "    </tr>\n",
              "    <tr>\n",
              "      <th>17</th>\n",
              "      <td>1.026498</td>\n",
              "      <td>1.153031</td>\n",
              "    </tr>\n",
              "    <tr>\n",
              "      <th>18</th>\n",
              "      <td>1.110015</td>\n",
              "      <td>1.329586</td>\n",
              "    </tr>\n",
              "    <tr>\n",
              "      <th>19</th>\n",
              "      <td>1.077741</td>\n",
              "      <td>1.277995</td>\n",
              "    </tr>\n",
              "  </tbody>\n",
              "</table>\n",
              "</div>\n",
              "      <button class=\"colab-df-convert\" onclick=\"convertToInteractive('df-453e8b52-cb90-400b-b81b-93cbb6eeffa2')\"\n",
              "              title=\"Convert this dataframe to an interactive table.\"\n",
              "              style=\"display:none;\">\n",
              "        \n",
              "  <svg xmlns=\"http://www.w3.org/2000/svg\" height=\"24px\"viewBox=\"0 0 24 24\"\n",
              "       width=\"24px\">\n",
              "    <path d=\"M0 0h24v24H0V0z\" fill=\"none\"/>\n",
              "    <path d=\"M18.56 5.44l.94 2.06.94-2.06 2.06-.94-2.06-.94-.94-2.06-.94 2.06-2.06.94zm-11 1L8.5 8.5l.94-2.06 2.06-.94-2.06-.94L8.5 2.5l-.94 2.06-2.06.94zm10 10l.94 2.06.94-2.06 2.06-.94-2.06-.94-.94-2.06-.94 2.06-2.06.94z\"/><path d=\"M17.41 7.96l-1.37-1.37c-.4-.4-.92-.59-1.43-.59-.52 0-1.04.2-1.43.59L10.3 9.45l-7.72 7.72c-.78.78-.78 2.05 0 2.83L4 21.41c.39.39.9.59 1.41.59.51 0 1.02-.2 1.41-.59l7.78-7.78 2.81-2.81c.8-.78.8-2.07 0-2.86zM5.41 20L4 18.59l7.72-7.72 1.47 1.35L5.41 20z\"/>\n",
              "  </svg>\n",
              "      </button>\n",
              "      \n",
              "  <style>\n",
              "    .colab-df-container {\n",
              "      display:flex;\n",
              "      flex-wrap:wrap;\n",
              "      gap: 12px;\n",
              "    }\n",
              "\n",
              "    .colab-df-convert {\n",
              "      background-color: #E8F0FE;\n",
              "      border: none;\n",
              "      border-radius: 50%;\n",
              "      cursor: pointer;\n",
              "      display: none;\n",
              "      fill: #1967D2;\n",
              "      height: 32px;\n",
              "      padding: 0 0 0 0;\n",
              "      width: 32px;\n",
              "    }\n",
              "\n",
              "    .colab-df-convert:hover {\n",
              "      background-color: #E2EBFA;\n",
              "      box-shadow: 0px 1px 2px rgba(60, 64, 67, 0.3), 0px 1px 3px 1px rgba(60, 64, 67, 0.15);\n",
              "      fill: #174EA6;\n",
              "    }\n",
              "\n",
              "    [theme=dark] .colab-df-convert {\n",
              "      background-color: #3B4455;\n",
              "      fill: #D2E3FC;\n",
              "    }\n",
              "\n",
              "    [theme=dark] .colab-df-convert:hover {\n",
              "      background-color: #434B5C;\n",
              "      box-shadow: 0px 1px 3px 1px rgba(0, 0, 0, 0.15);\n",
              "      filter: drop-shadow(0px 1px 2px rgba(0, 0, 0, 0.3));\n",
              "      fill: #FFFFFF;\n",
              "    }\n",
              "  </style>\n",
              "\n",
              "      <script>\n",
              "        const buttonEl =\n",
              "          document.querySelector('#df-453e8b52-cb90-400b-b81b-93cbb6eeffa2 button.colab-df-convert');\n",
              "        buttonEl.style.display =\n",
              "          google.colab.kernel.accessAllowed ? 'block' : 'none';\n",
              "\n",
              "        async function convertToInteractive(key) {\n",
              "          const element = document.querySelector('#df-453e8b52-cb90-400b-b81b-93cbb6eeffa2');\n",
              "          const dataTable =\n",
              "            await google.colab.kernel.invokeFunction('convertToInteractive',\n",
              "                                                     [key], {});\n",
              "          if (!dataTable) return;\n",
              "\n",
              "          const docLinkHtml = 'Like what you see? Visit the ' +\n",
              "            '<a target=\"_blank\" href=https://colab.research.google.com/notebooks/data_table.ipynb>data table notebook</a>'\n",
              "            + ' to learn more about interactive tables.';\n",
              "          element.innerHTML = '';\n",
              "          dataTable['output_type'] = 'display_data';\n",
              "          await google.colab.output.renderOutput(dataTable, element);\n",
              "          const docLink = document.createElement('div');\n",
              "          docLink.innerHTML = docLinkHtml;\n",
              "          element.appendChild(docLink);\n",
              "        }\n",
              "      </script>\n",
              "    </div>\n",
              "  </div>\n",
              "  "
            ]
          },
          "metadata": {},
          "execution_count": 19
        }
      ]
    },
    {
      "cell_type": "markdown",
      "id": "8ab4aa11",
      "metadata": {
        "id": "8ab4aa11"
      },
      "source": [
        "### Visualizing the same data\n",
        "- Let's try to visualize the data"
      ]
    },
    {
      "cell_type": "markdown",
      "id": "a820da43",
      "metadata": {
        "id": "a820da43"
      },
      "source": [
        "[Matplotlib](https://matplotlib.org) is an easy to use visualization library for Python.\n",
        "\n",
        "In Notebooks you get started with.\n",
        "```Python\n",
        "import matplotlib.pyplot as plt\n",
        "%matplotlib inline\n",
        "```"
      ]
    },
    {
      "cell_type": "code",
      "execution_count": 20,
      "id": "f6f1a52d",
      "metadata": {
        "id": "f6f1a52d"
      },
      "outputs": [],
      "source": [
        "import matplotlib.pyplot as plt\n",
        "%matplotlib inline"
      ]
    },
    {
      "cell_type": "code",
      "execution_count": 21,
      "id": "f6374f5d",
      "metadata": {
        "id": "f6374f5d",
        "outputId": "1a7df697-cfd1-4fc0-d800-48159f59988d",
        "colab": {
          "base_uri": "https://localhost:8080/",
          "height": 296
        }
      },
      "outputs": [
        {
          "output_type": "execute_result",
          "data": {
            "text/plain": [
              "<matplotlib.axes._subplots.AxesSubplot at 0x7ff95a4a07d0>"
            ]
          },
          "metadata": {},
          "execution_count": 21
        },
        {
          "output_type": "display_data",
          "data": {
            "text/plain": [
              "<Figure size 432x288 with 1 Axes>"
            ],
            "image/png": "[encoded data removed]"
          },
          "metadata": {
            "needs_background": "light"
          }
        }
      ],
      "source": [
        "sample.plot.scatter(x='x', y='y')"
      ]
    },
    {
      "cell_type": "code",
      "execution_count": 23,
      "id": "6ccdbe91",
      "metadata": {
        "id": "6ccdbe91",
        "outputId": "b01d3fbd-41fe-43c0-ee44-48460cfecafa",
        "colab": {
          "base_uri": "https://localhost:8080/",
          "height": 296
        }
      },
      "outputs": [
        {
          "output_type": "execute_result",
          "data": {
            "text/plain": [
              "<matplotlib.axes._subplots.AxesSubplot at 0x7ff958505a10>"
            ]
          },
          "metadata": {},
          "execution_count": 23
        },
        {
          "output_type": "display_data",
          "data": {
            "text/plain": [
              "<Figure size 432x288 with 1 Axes>"
            ],
            "image/png": "[encoded data removed]"
          },
          "metadata": {
            "needs_background": "light"
          }
        }
      ],
      "source": [
        "sample.plot.scatter(x='x', y='y')"
      ]
    },
    {
      "cell_type": "markdown",
      "id": "d78269fd",
      "metadata": {
        "id": "d78269fd"
      },
      "source": [
        "### What Data Visualization gives\n",
        "- Absorb information quickly\n",
        "- Improve insights\n",
        "- Make faster decisions"
      ]
    },
    {
      "cell_type": "markdown",
      "id": "703af8d5",
      "metadata": {
        "id": "703af8d5"
      },
      "source": [
        "## Data Quality\n",
        "### Is the data quality usable\n",
        "\n",
        "Consider the dataset: `files/sample_height.csv`\n",
        "\n",
        "#### Check for missing values\n",
        "[`isna()`](https://pandas.pydata.org/docs/reference/api/pandas.DataFrame.isna.html)[`.any()`](https://pandas.pydata.org/docs/reference/api/pandas.DataFrame.any.html): Check for any missing values - returns True if missing values\n",
        "```Python\n",
        "data.isna().any()\n",
        "```\n",
        "\n",
        "#### Visualize data\n",
        "- Notice: you need to know something about the data\n",
        "- We know that it is heights of humans in centimeters\n",
        "- This could be checked with a histogram"
      ]
    },
    {
      "cell_type": "code",
      "execution_count": null,
      "id": "cc1eae5a",
      "metadata": {
        "id": "cc1eae5a"
      },
      "outputs": [],
      "source": [
        "data = pd.read_csv('files/sample_height.csv')"
      ]
    },
    {
      "cell_type": "code",
      "execution_count": null,
      "id": "4dc28f3d",
      "metadata": {
        "id": "4dc28f3d"
      },
      "outputs": [],
      "source": [
        "data.head()"
      ]
    },
    {
      "cell_type": "code",
      "execution_count": 24,
      "id": "59121390",
      "metadata": {
        "id": "59121390",
        "outputId": "a2b1af07-54ab-4714-ac07-739824b601d0",
        "colab": {
          "base_uri": "https://localhost:8080/",
          "height": 165
        }
      },
      "outputs": [
        {
          "output_type": "error",
          "ename": "NameError",
          "evalue": "ignored",
          "traceback": [
            "\u001b[0;31m---------------------------------------------------------------------------\u001b[0m",
            "\u001b[0;31mNameError\u001b[0m                                 Traceback (most recent call last)",
            "\u001b[0;32m<ipython-input-24-01f683983483>\u001b[0m in \u001b[0;36m<module>\u001b[0;34m()\u001b[0m\n\u001b[0;32m----> 1\u001b[0;31m \u001b[0mdata\u001b[0m\u001b[0;34m.\u001b[0m\u001b[0misna\u001b[0m\u001b[0;34m(\u001b[0m\u001b[0;34m)\u001b[0m\u001b[0;34m.\u001b[0m\u001b[0many\u001b[0m\u001b[0;34m(\u001b[0m\u001b[0;34m)\u001b[0m\u001b[0;34m\u001b[0m\u001b[0;34m\u001b[0m\u001b[0m\n\u001b[0m",
            "\u001b[0;31mNameError\u001b[0m: name 'data' is not defined"
          ]
        }
      ],
      "source": [
        "data.isna().any()"
      ]
    },
    {
      "cell_type": "code",
      "execution_count": null,
      "id": "4833b7ec",
      "metadata": {
        "id": "4833b7ec"
      },
      "outputs": [],
      "source": [
        "data.plot.hist()"
      ]
    },
    {
      "cell_type": "code",
      "execution_count": null,
      "id": "658e8d84",
      "metadata": {
        "id": "658e8d84"
      },
      "outputs": [],
      "source": [
        "data[data['height'] < 50]"
      ]
    },
    {
      "cell_type": "code",
      "execution_count": null,
      "id": "126d7a80",
      "metadata": {
        "id": "126d7a80"
      },
      "outputs": [],
      "source": [
        "data = pd.read_csv('files/sample_age.csv')"
      ]
    },
    {
      "cell_type": "code",
      "source": [
        "data.head()"
      ],
      "metadata": {
        "id": "uhzWC8ZbL0LO"
      },
      "id": "uhzWC8ZbL0LO",
      "execution_count": null,
      "outputs": []
    },
    {
      "cell_type": "code",
      "source": [
        "data.describe()"
      ],
      "metadata": {
        "id": "BIJ2TEv6L3ML"
      },
      "id": "BIJ2TEv6L3ML",
      "execution_count": null,
      "outputs": []
    },
    {
      "cell_type": "code",
      "source": [
        "data.plot.hist()"
      ],
      "metadata": {
        "id": "rMV2FX6iL8JC"
      },
      "id": "rMV2FX6iL8JC",
      "execution_count": null,
      "outputs": []
    },
    {
      "cell_type": "code",
      "source": [
        "data[data['age'] > 150]"
      ],
      "metadata": {
        "id": "vtXWhg5YL8E0"
      },
      "id": "vtXWhg5YL8E0",
      "execution_count": null,
      "outputs": []
    },
    {
      "cell_type": "code",
      "source": [
        "data = pd.read_csv('files/WorldBank-ATM.CO2E.PC_DS2.csv', index_col=0)\n",
        "data.head()"
      ],
      "metadata": {
        "id": "PSDoYV1-L7-S"
      },
      "id": "PSDoYV1-L7-S",
      "execution_count": null,
      "outputs": []
    },
    {
      "cell_type": "code",
      "source": [
        "data['USA'].plot()"
      ],
      "metadata": {
        "id": "n6oJeAxSL76f"
      },
      "id": "n6oJeAxSL76f",
      "execution_count": null,
      "outputs": []
    },
    {
      "cell_type": "code",
      "source": [
        "data['USA'].plot(title='CO2 per capita in USA', ylabel='CO2 per capita')"
      ],
      "metadata": {
        "id": "1ws7mYdjL74C"
      },
      "id": "1ws7mYdjL74C",
      "execution_count": null,
      "outputs": []
    },
    {
      "cell_type": "code",
      "source": [
        "data['USA'].plot(title='CO2 per capita in USA', ylabel='CO2 per capita', ylim=0)"
      ],
      "metadata": {
        "id": "aAc5uczIL71O"
      },
      "id": "aAc5uczIL71O",
      "execution_count": null,
      "outputs": []
    },
    {
      "cell_type": "code",
      "source": [
        "data[['USA', 'WLD']].plot(ylim=0)\n"
      ],
      "metadata": {
        "id": "QzSw6DbxL7y7"
      },
      "id": "QzSw6DbxL7y7",
      "execution_count": null,
      "outputs": []
    },
    {
      "cell_type": "code",
      "source": [
        "data[['USA', 'DNK', 'WLD']].plot(ylim=0, figsize=(20,6))"
      ],
      "metadata": {
        "id": "O-T4W3a1OYGQ"
      },
      "id": "O-T4W3a1OYGQ",
      "execution_count": null,
      "outputs": []
    },
    {
      "cell_type": "code",
      "source": [
        "data['USA'].plot.bar(figsize=(20,6))"
      ],
      "metadata": {
        "id": "9cVGWO_rL7bw"
      },
      "id": "9cVGWO_rL7bw",
      "execution_count": null,
      "outputs": []
    },
    {
      "cell_type": "code",
      "source": [
        "data[['USA', 'WLD']].plot.bar(figsize=(20,6))"
      ],
      "metadata": {
        "id": "LNDhC2lwOYMM"
      },
      "id": "LNDhC2lwOYMM",
      "execution_count": null,
      "outputs": []
    },
    {
      "cell_type": "code",
      "source": [
        "data[['USA', 'WLD']].loc[2000:].plot.bar(figsize=(20,6))"
      ],
      "metadata": {
        "id": "PvE_L6SXL7Xf"
      },
      "id": "PvE_L6SXL7Xf",
      "execution_count": null,
      "outputs": []
    },
    {
      "cell_type": "code",
      "source": [
        "data['USA'].plot.hist(figsize=(20,6), bins=7)"
      ],
      "metadata": {
        "id": "cvyFWRw6Ol69"
      },
      "id": "cvyFWRw6Ol69",
      "execution_count": null,
      "outputs": []
    },
    {
      "cell_type": "code",
      "source": [
        "df = pd.Series(data=[3, 5, 7], index=['Data1', 'Data2', 'Data3'])\n",
        "df.plot.pie()"
      ],
      "metadata": {
        "id": "kEgb-jc7Ol4D"
      },
      "id": "kEgb-jc7Ol4D",
      "execution_count": null,
      "outputs": []
    },
    {
      "cell_type": "code",
      "source": [
        "(data['USA'] < 17.5).value_counts().plot.pie(colors=['r', 'g'], labels=['>=17.5', '<17.5'], title='CO2 per capita', autopct='%1.1f%%')"
      ],
      "metadata": {
        "id": "-Kg5-ZVPOlrY"
      },
      "id": "-Kg5-ZVPOlrY",
      "execution_count": null,
      "outputs": []
    },
    {
      "cell_type": "code",
      "source": [
        "data = pd.read_csv('files/co2_gdp_per_capita.csv', index_col=0)\n",
        "data.head()"
      ],
      "metadata": {
        "id": "76_XyKOZOloh"
      },
      "id": "76_XyKOZOloh",
      "execution_count": null,
      "outputs": []
    },
    {
      "cell_type": "code",
      "source": [
        "data.plot.scatter(x='CO2 per capita', y='GDP per capita')"
      ],
      "metadata": {
        "id": "YpSC-z2CO9hM"
      },
      "id": "YpSC-z2CO9hM",
      "execution_count": null,
      "outputs": []
    },
    {
      "cell_type": "code",
      "source": [
        "data.corr()"
      ],
      "metadata": {
        "id": "CWPVCYk_O9eP"
      },
      "id": "CWPVCYk_O9eP",
      "execution_count": null,
      "outputs": []
    },
    {
      "cell_type": "code",
      "source": [
        "data = pd.read_csv('files/WorldBank-ATM.CO2E.PC_DS2.csv', index_col=0)"
      ],
      "metadata": {
        "id": "EkYwAMsZO9bv"
      },
      "id": "EkYwAMsZO9bv",
      "execution_count": null,
      "outputs": []
    },
    {
      "cell_type": "code",
      "source": [
        "data.head()"
      ],
      "metadata": {
        "id": "mwR5CSU9OYR7"
      },
      "id": "mwR5CSU9OYR7",
      "execution_count": null,
      "outputs": []
    },
    {
      "cell_type": "code",
      "source": [
        "data.loc[year].describe()"
      ],
      "metadata": {
        "id": "FXcHM4FHL7VC"
      },
      "id": "FXcHM4FHL7VC",
      "execution_count": null,
      "outputs": []
    },
    {
      "cell_type": "code",
      "source": [
        "data.loc[year]['USA']"
      ],
      "metadata": {
        "id": "1TduOlkpPpZN"
      },
      "id": "1TduOlkpPpZN",
      "execution_count": null,
      "outputs": []
    },
    {
      "cell_type": "code",
      "source": [
        "ax = data.loc[year].plot.hist(bins=15, facecolor='green')\n",
        "\n",
        "ax.set_xlabel('CO2 per capita')\n",
        "ax.set_ylabel('Number of countries')\n",
        "ax.annotate(\"USA\", xy=(15, 5), xytext=(15, 30), \n",
        "            arrowprops=dict(arrowstyle=\"->\",\n",
        "                            connectionstyle=\"arc3\"))"
      ],
      "metadata": {
        "id": "LkW9rvGqPpWI"
      },
      "id": "LkW9rvGqPpWI",
      "execution_count": null,
      "outputs": []
    },
    {
      "cell_type": "code",
      "source": [
        ""
      ],
      "metadata": {
        "id": "4mv77yqLPpS1"
      },
      "id": "4mv77yqLPpS1",
      "execution_count": null,
      "outputs": []
    },
    {
      "cell_type": "code",
      "source": [
        ""
      ],
      "metadata": {
        "id": "laz7p03KPpQt"
      },
      "id": "laz7p03KPpQt",
      "execution_count": null,
      "outputs": []
    },
    {
      "cell_type": "code",
      "source": [
        ""
      ],
      "metadata": {
        "id": "qTuSCSFyL7DI"
      },
      "id": "qTuSCSFyL7DI",
      "execution_count": null,
      "outputs": []
    },
    {
      "cell_type": "markdown",
      "id": "9f52f1b5",
      "metadata": {
        "id": "9f52f1b5"
      },
      "source": [
        "### Identifying outliers\n",
        "\n",
        "Consider the dataset: `files/sample_age.csv`\n",
        "\n",
        "#### Visualize with a histogram\n",
        "- This gives fast insights\n",
        "\n",
        "#### Describe the data\n",
        "[`describe()`](https://pandas.pydata.org/docs/reference/api/pandas.DataFrame.describe.html): Makes simple statistics of the DataFrame\n",
        "```Python\n",
        "data.describe()\n",
        "```"
      ]
    },
    {
      "cell_type": "code",
      "execution_count": null,
      "id": "dc867a5f",
      "metadata": {
        "id": "dc867a5f"
      },
      "outputs": [],
      "source": [
        ""
      ]
    },
    {
      "cell_type": "code",
      "execution_count": null,
      "id": "e3f21ee8",
      "metadata": {
        "id": "e3f21ee8"
      },
      "outputs": [],
      "source": [
        ""
      ]
    },
    {
      "cell_type": "code",
      "execution_count": null,
      "id": "6d3eaffd",
      "metadata": {
        "id": "6d3eaffd"
      },
      "outputs": [],
      "source": [
        ""
      ]
    },
    {
      "cell_type": "code",
      "execution_count": null,
      "id": "e9e7b16a",
      "metadata": {
        "id": "e9e7b16a"
      },
      "outputs": [],
      "source": [
        ""
      ]
    },
    {
      "cell_type": "code",
      "execution_count": null,
      "id": "0090d077",
      "metadata": {
        "id": "0090d077"
      },
      "outputs": [],
      "source": [
        ""
      ]
    },
    {
      "cell_type": "markdown",
      "id": "f8552b42",
      "metadata": {
        "id": "f8552b42"
      },
      "source": [
        "## Data Exploration\n",
        "\n",
        "### Data Visaulization\n",
        "- Absorb information quickly\n",
        "- Improve insights\n",
        "- Make faster decisions"
      ]
    },
    {
      "cell_type": "markdown",
      "id": "af0b3042",
      "metadata": {
        "id": "af0b3042"
      },
      "source": [
        "### World Bank\n",
        "The [World Bank](https://www.worldbank.org/en/home) is a great source of datasets\n",
        "\n",
        "#### CO2 per capita\n",
        "- Let's explore this dataset [EN.ATM.CO2E.PC](https://data.worldbank.org/indicator/EN.ATM.CO2E.PC)\n",
        "- Already available here: `files/WorldBank-ATM.CO2E.PC_DS2.csv`\n",
        "\n",
        "#### Explore typical Data Visualizations\n",
        "- Simple plot\n",
        "- Set title\n",
        "- Set labels\n",
        "- Adjust axis"
      ]
    },
    {
      "cell_type": "markdown",
      "id": "15adfd6a",
      "metadata": {
        "id": "15adfd6a"
      },
      "source": [
        "#### Read the data"
      ]
    },
    {
      "cell_type": "code",
      "execution_count": null,
      "id": "e3056807",
      "metadata": {
        "id": "e3056807"
      },
      "outputs": [],
      "source": [
        ""
      ]
    },
    {
      "cell_type": "code",
      "execution_count": null,
      "id": "6c99bfe5",
      "metadata": {
        "id": "6c99bfe5"
      },
      "outputs": [],
      "source": [
        ""
      ]
    },
    {
      "cell_type": "markdown",
      "id": "9452886d",
      "metadata": {
        "id": "9452886d"
      },
      "source": [
        "#### Simple plot\n",
        "- ```.plot()``` Creates a simple plot of data\n",
        "- This gives you an idea of the data"
      ]
    },
    {
      "cell_type": "code",
      "execution_count": null,
      "id": "f5dc3e7f",
      "metadata": {
        "id": "f5dc3e7f"
      },
      "outputs": [],
      "source": [
        ""
      ]
    },
    {
      "cell_type": "code",
      "execution_count": null,
      "id": "650156fd",
      "metadata": {
        "id": "650156fd"
      },
      "outputs": [],
      "source": [
        ""
      ]
    },
    {
      "cell_type": "markdown",
      "id": "59db0683",
      "metadata": {
        "id": "59db0683"
      },
      "source": [
        "#### Adding title and labels\n",
        "Arguments\n",
        "- ```title='Tilte'``` adds the title\n",
        "- ```xlabel='X label'``` adds or changes the X-label\n",
        "- ```ylabel='X label'``` adds or changes the Y-label"
      ]
    },
    {
      "cell_type": "code",
      "execution_count": null,
      "id": "6b791f27",
      "metadata": {
        "id": "6b791f27"
      },
      "outputs": [],
      "source": [
        ""
      ]
    },
    {
      "cell_type": "code",
      "execution_count": null,
      "id": "ed887a73",
      "metadata": {
        "id": "ed887a73"
      },
      "outputs": [],
      "source": [
        ""
      ]
    },
    {
      "cell_type": "markdown",
      "id": "22986250",
      "metadata": {
        "id": "22986250"
      },
      "source": [
        "#### Adding axis range\n",
        "- ```xlim=(min, max)``` or ```xlim=min``` Sets the x-axis range\n",
        "- ```ylim=(min, max)``` or ```ylim=min``` Sets the y-axis range"
      ]
    },
    {
      "cell_type": "code",
      "execution_count": null,
      "id": "b65c973f",
      "metadata": {
        "id": "b65c973f"
      },
      "outputs": [],
      "source": [
        ""
      ]
    },
    {
      "cell_type": "code",
      "execution_count": null,
      "id": "5a96cf1d",
      "metadata": {
        "id": "5a96cf1d"
      },
      "outputs": [],
      "source": [
        ""
      ]
    },
    {
      "cell_type": "markdown",
      "id": "5c317580",
      "metadata": {
        "id": "5c317580"
      },
      "source": [
        "### Comparing data\n",
        "- Explore **USA** and **WLD**"
      ]
    },
    {
      "cell_type": "code",
      "execution_count": null,
      "id": "d9c8b20f",
      "metadata": {
        "id": "d9c8b20f"
      },
      "outputs": [],
      "source": [
        ""
      ]
    },
    {
      "cell_type": "code",
      "execution_count": null,
      "id": "253d92fa",
      "metadata": {
        "id": "253d92fa"
      },
      "outputs": [],
      "source": [
        ""
      ]
    },
    {
      "cell_type": "markdown",
      "id": "07642699",
      "metadata": {
        "id": "07642699"
      },
      "source": [
        "#### Set the figure size\n",
        "- ```figsize=(width, height)``` in inches"
      ]
    },
    {
      "cell_type": "code",
      "execution_count": null,
      "id": "7537e929",
      "metadata": {
        "id": "7537e929"
      },
      "outputs": [],
      "source": [
        ""
      ]
    },
    {
      "cell_type": "code",
      "execution_count": null,
      "id": "561b11a0",
      "metadata": {
        "id": "561b11a0"
      },
      "outputs": [],
      "source": [
        ""
      ]
    },
    {
      "cell_type": "markdown",
      "id": "447a4bcf",
      "metadata": {
        "id": "447a4bcf"
      },
      "source": [
        "### Bar plot\n",
        "- ```.plot.bar()``` Create a bar plot"
      ]
    },
    {
      "cell_type": "code",
      "execution_count": null,
      "id": "6fdb82dc",
      "metadata": {
        "id": "6fdb82dc"
      },
      "outputs": [],
      "source": [
        ""
      ]
    },
    {
      "cell_type": "code",
      "execution_count": null,
      "id": "6c45e8a6",
      "metadata": {
        "id": "6c45e8a6"
      },
      "outputs": [],
      "source": [
        ""
      ]
    },
    {
      "cell_type": "markdown",
      "id": "e29639c4",
      "metadata": {
        "id": "e29639c4"
      },
      "source": [
        "### Plot a range of data\n",
        "- ```.loc[from:to]``` apply this on the DataFrame to get a range (both inclusive)"
      ]
    },
    {
      "cell_type": "code",
      "execution_count": null,
      "id": "01d8f1c6",
      "metadata": {
        "id": "01d8f1c6"
      },
      "outputs": [],
      "source": [
        ""
      ]
    },
    {
      "cell_type": "code",
      "execution_count": null,
      "id": "c0333425",
      "metadata": {
        "id": "c0333425"
      },
      "outputs": [],
      "source": [
        ""
      ]
    },
    {
      "cell_type": "markdown",
      "id": "d5739df8",
      "metadata": {
        "id": "d5739df8"
      },
      "source": [
        "### Histogram\n",
        "- ```.plot.hist()``` Create a histogram\n",
        "- ```bins=<number of bins>``` Specify the number of bins in the histogram."
      ]
    },
    {
      "cell_type": "code",
      "execution_count": null,
      "id": "6ef899b8",
      "metadata": {
        "id": "6ef899b8"
      },
      "outputs": [],
      "source": [
        ""
      ]
    },
    {
      "cell_type": "code",
      "execution_count": null,
      "id": "790cd05c",
      "metadata": {
        "id": "790cd05c"
      },
      "outputs": [],
      "source": [
        ""
      ]
    },
    {
      "cell_type": "markdown",
      "id": "565e931d",
      "metadata": {
        "id": "565e931d"
      },
      "source": [
        "### Pie chart\n",
        "- ```.plot.pie()``` Creates a Pie Chart"
      ]
    },
    {
      "cell_type": "code",
      "execution_count": null,
      "id": "32978717",
      "metadata": {
        "id": "32978717"
      },
      "outputs": [],
      "source": [
        ""
      ]
    },
    {
      "cell_type": "code",
      "execution_count": null,
      "id": "af1d4eac",
      "metadata": {
        "id": "af1d4eac"
      },
      "outputs": [],
      "source": [
        ""
      ]
    },
    {
      "cell_type": "markdown",
      "id": "0122ddf5",
      "metadata": {
        "id": "0122ddf5"
      },
      "source": [
        "### Value counts and pie charts\n",
        "- A simple chart of values above/below a threshold\n",
        "- ```.value_counts()``` Counts occurences of values in a Series (or DataFrame column)\n",
        "- A few arguments to ```.plot.pie()```\n",
        "    - ```colors=<list of colors>```\n",
        "    - ```labels=<list of labels>```\n",
        "    - ```title='<title>'```\n",
        "    - ```ylabel='<label>'```\n",
        "    - ```autopct='%1.1f%%'``` sets percentages on chart"
      ]
    },
    {
      "cell_type": "code",
      "execution_count": null,
      "id": "3858b0ff",
      "metadata": {
        "id": "3858b0ff"
      },
      "outputs": [],
      "source": [
        ""
      ]
    },
    {
      "cell_type": "code",
      "execution_count": null,
      "id": "d409f15b",
      "metadata": {
        "id": "d409f15b"
      },
      "outputs": [],
      "source": [
        ""
      ]
    },
    {
      "cell_type": "markdown",
      "id": "8a088d51",
      "metadata": {
        "id": "8a088d51"
      },
      "source": [
        "### Scatter plot\n",
        "- Assume we want to investigate if GDP per capita and CO2 per capita are correlated\n",
        "    - Data available in *'files/co2_gdp_per_capita.csv'*\n",
        "- ```.plot.scatter(x=<label>, y=<label>)``` Create a scatter plot\n",
        "- ```.corr()``` Compute pairwise correlation of columns ([docs](https://pandas.pydata.org/docs/reference/api/pandas.DataFrame.corr.html))"
      ]
    },
    {
      "cell_type": "code",
      "execution_count": null,
      "id": "d8e9b102",
      "metadata": {
        "id": "d8e9b102"
      },
      "outputs": [],
      "source": [
        ""
      ]
    },
    {
      "cell_type": "code",
      "execution_count": null,
      "id": "492e903a",
      "metadata": {
        "id": "492e903a"
      },
      "outputs": [],
      "source": [
        ""
      ]
    },
    {
      "cell_type": "code",
      "execution_count": null,
      "id": "0e19da58",
      "metadata": {
        "id": "0e19da58"
      },
      "outputs": [],
      "source": [
        ""
      ]
    },
    {
      "cell_type": "code",
      "execution_count": null,
      "id": "a4119d09",
      "metadata": {
        "id": "a4119d09"
      },
      "outputs": [],
      "source": [
        ""
      ]
    },
    {
      "cell_type": "markdown",
      "id": "c58d75f4",
      "metadata": {
        "id": "c58d75f4"
      },
      "source": [
        "## Data Presentation\n",
        "- This is about making data esay to digest"
      ]
    },
    {
      "cell_type": "markdown",
      "id": "ea0387b3",
      "metadata": {
        "id": "ea0387b3"
      },
      "source": [
        "### The message\n",
        "Assume we want to give a picture of how US CO2 per capita is compared to the rest of the world"
      ]
    },
    {
      "cell_type": "markdown",
      "id": "86cac32b",
      "metadata": {
        "id": "86cac32b"
      },
      "source": [
        "#### Preparation\n",
        "- Let's take 2017 (as more recent data is incomplete)\n",
        "- What is the mean, max, and min CO2 per capital in the world"
      ]
    },
    {
      "cell_type": "code",
      "execution_count": null,
      "id": "67a7a75d",
      "metadata": {
        "id": "67a7a75d"
      },
      "outputs": [],
      "source": [
        ""
      ]
    },
    {
      "cell_type": "code",
      "execution_count": null,
      "id": "0fe496ab",
      "metadata": {
        "id": "0fe496ab"
      },
      "outputs": [],
      "source": [
        ""
      ]
    },
    {
      "cell_type": "code",
      "execution_count": null,
      "id": "caaff709",
      "metadata": {
        "id": "caaff709"
      },
      "outputs": [],
      "source": [
        ""
      ]
    },
    {
      "cell_type": "code",
      "execution_count": null,
      "id": "b9deedec",
      "metadata": {
        "id": "b9deedec"
      },
      "outputs": [],
      "source": [
        ""
      ]
    },
    {
      "cell_type": "code",
      "execution_count": null,
      "id": "2945317c",
      "metadata": {
        "id": "2945317c"
      },
      "outputs": [],
      "source": [
        ""
      ]
    },
    {
      "cell_type": "markdown",
      "id": "d85a0348",
      "metadata": {
        "id": "d85a0348"
      },
      "source": [
        "#### And in the US?"
      ]
    },
    {
      "cell_type": "code",
      "execution_count": null,
      "id": "0ef5e78b",
      "metadata": {
        "id": "0ef5e78b"
      },
      "outputs": [],
      "source": [
        ""
      ]
    },
    {
      "cell_type": "code",
      "execution_count": null,
      "id": "7a4cfd91",
      "metadata": {
        "id": "7a4cfd91"
      },
      "outputs": [],
      "source": [
        ""
      ]
    },
    {
      "cell_type": "markdown",
      "id": "570ca224",
      "metadata": {
        "id": "570ca224"
      },
      "source": [
        "#### How can we tell a story?\n",
        "- US is above the mean\n",
        "- US is not the max\n",
        "- It is above 75%"
      ]
    },
    {
      "cell_type": "markdown",
      "id": "43528fd1",
      "metadata": {
        "id": "43528fd1"
      },
      "source": [
        "#### Some more advanced matplotlib"
      ]
    },
    {
      "cell_type": "code",
      "execution_count": null,
      "id": "b14510e6",
      "metadata": {
        "id": "b14510e6"
      },
      "outputs": [],
      "source": [
        ""
      ]
    },
    {
      "cell_type": "markdown",
      "id": "a7a6591d",
      "metadata": {
        "id": "a7a6591d"
      },
      "source": [
        "### Creative story telling with data visualization\n",
        "\n",
        "Check out this video https://www.youtube.com/watch?v=jbkSRLYSojo"
      ]
    },
    {
      "cell_type": "code",
      "execution_count": null,
      "id": "fbf145dd",
      "metadata": {
        "id": "fbf145dd"
      },
      "outputs": [],
      "source": [
        ""
      ]
    },
    {
      "cell_type": "code",
      "execution_count": null,
      "id": "c5522b44",
      "metadata": {
        "id": "c5522b44"
      },
      "outputs": [],
      "source": [
        ""
      ]
    }
  ],
  "metadata": {
    "language_info": {
      "name": "python"
    },
    "colab": {
      "name": "01 - Lesson - Visualization.ipynb",
      "provenance": []
    },
    "kernelspec": {
      "name": "python3",
      "display_name": "Python 3"
    },
    "gpuClass": "standard"
  },
  "nbformat": 4,
  "nbformat_minor": 5
}